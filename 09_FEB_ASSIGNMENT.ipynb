{
 "cells": [
  {
   "cell_type": "code",
   "execution_count": 9,
   "id": "ac7d9a62-63d7-44fb-8979-50ad69b38adf",
   "metadata": {},
   "outputs": [],
   "source": [
    "# Q1, Create a vehicle class with an init method having instance variables as name_of_vehicle, max_speed\n",
    "# and average_of_vehicle."
   ]
  },
  {
   "cell_type": "code",
   "execution_count": 11,
   "id": "1433f7bb-78c7-4c32-bef8-7fa0109d0f15",
   "metadata": {},
   "outputs": [],
   "source": [
    "class vehicle:\n",
    "    def __init__(self,name_of_vehicle,max_speed,average_of_vehicle):\n",
    "        self.name_of_vehicle=name_of_vehicle\n",
    "        self.max_speed=max_speed\n",
    "        self.average_of_vehicle=average_of_vehicle\n",
    "        \n",
    "        \n",
    "    def details_car(self):\n",
    "        return self.name_of_vehicle, self.max_speed,self.average_of_vehicle\n",
    "        "
   ]
  },
  {
   "cell_type": "code",
   "execution_count": 12,
   "id": "d4d3f9bf-d193-4bdb-b555-1330614bb0cd",
   "metadata": {},
   "outputs": [],
   "source": [
    "obj_car=vehicle(\"toyota\",200,450000)"
   ]
  },
  {
   "cell_type": "code",
   "execution_count": 13,
   "id": "b7673cae-e8bc-4035-a104-84a86623681b",
   "metadata": {},
   "outputs": [
    {
     "name": "stdout",
     "output_type": "stream",
     "text": [
      "('toyota', 200, 450000)\n"
     ]
    }
   ],
   "source": [
    "print(obj_car.details_car())"
   ]
  },
  {
   "cell_type": "code",
   "execution_count": 6,
   "id": "fdd4e8ad-d3e8-425c-9dd4-e13cd2de4231",
   "metadata": {},
   "outputs": [
    {
     "data": {
      "text/plain": [
       "200"
      ]
     },
     "execution_count": 6,
     "metadata": {},
     "output_type": "execute_result"
    }
   ],
   "source": [
    "obj_car.max_speed"
   ]
  },
  {
   "cell_type": "code",
   "execution_count": 8,
   "id": "44a3e731-97dc-4644-972e-cb44b1ae5425",
   "metadata": {},
   "outputs": [],
   "source": [
    "#Q2.Create a child class car from the vehicle class created in Que 1, which will inherit the vehicle class.\n",
    "# Create a method named seating_capacity which takes capacity as an argument and returns the name of\n",
    "# the vehicle and its seating capacity."
   ]
  },
  {
   "cell_type": "code",
   "execution_count": 25,
   "id": "ca6a7191-f477-41d0-bae7-f96a5db81841",
   "metadata": {},
   "outputs": [],
   "source": [
    "class vehicle:\n",
    "    def __init__(self,name_of_vehicle,max_speed,average_of_vehicle):\n",
    "        self.name_of_vehicle=name_of_vehicle\n",
    "        self.max_speed=max_speed\n",
    "        self.average_of_vehicle=average_of_vehicle\n",
    "    def details_car(self):\n",
    "        return self.name_of_vehicle, self.max_speed,self.average_of_vehicle"
   ]
  },
  {
   "cell_type": "code",
   "execution_count": 38,
   "id": "ae80332b-84df-4716-8b49-e885fca51233",
   "metadata": {},
   "outputs": [],
   "source": [
    "class Car(vehicle):\n",
    "    def __init__(self,name_of_vehicle,max_speed,average_of_vehicle):\n",
    "        super().__init__(make, model, year)\n",
    "\n",
    "    def seating_capacity(self, capacity):\n",
    "        return self.details_car()"
   ]
  },
  {
   "cell_type": "code",
   "execution_count": 44,
   "id": "4327c45e-1af3-4961-83f7-81ca457530fe",
   "metadata": {},
   "outputs": [],
   "source": [
    "car1=car(\"Toyota\",200,450000)"
   ]
  },
  {
   "cell_type": "code",
   "execution_count": 45,
   "id": "c8fb62d3-10fa-4a29-b5ec-47b6e66977ff",
   "metadata": {},
   "outputs": [
    {
     "data": {
      "text/plain": [
       "('Toyota', 5)"
      ]
     },
     "execution_count": 45,
     "metadata": {},
     "output_type": "execute_result"
    }
   ],
   "source": [
    "car1.seating_capacity(5)"
   ]
  },
  {
   "cell_type": "code",
   "execution_count": 46,
   "id": "85762d64-7b39-480d-9830-7f996dd03330",
   "metadata": {},
   "outputs": [],
   "source": [
    "# Q3. What is multiple inheritance? Write a python code to demonstrate multiple inheritance."
   ]
  },
  {
   "cell_type": "markdown",
   "id": "ccaa054f-74ea-4be2-9921-33a01e503980",
   "metadata": {},
   "source": [
    "ANS = A class can inherit properties and behaviors from more than one parent class. In other words, a child class can inherit from multiple parent classes simultaneously.\n",
    "\n",
    "In Python, when a class inherits from multiple classes, it can access the attributes and methods of all its parent classes. This allows the child class to combine the functionalities of its parent classes, leading to code reuse and creating more flexible and powerful class hierarchies."
   ]
  },
  {
   "cell_type": "code",
   "execution_count": 47,
   "id": "26d073ae-72b8-408e-87b3-f6a77228e060",
   "metadata": {},
   "outputs": [
    {
     "name": "stdout",
     "output_type": "stream",
     "text": [
      "This is the uvais siddiqui\n",
      "This is the man behind uvais siddiqui\n"
     ]
    }
   ],
   "source": [
    "#PYTHON CODE TO DEMONSTRATE MULTIPLE INHERRITANCE.\n",
    "class Parent1:\n",
    "    def method1(self):\n",
    "        print(\"This is the uvais siddiqui\")\n",
    "\n",
    "class Parent2:\n",
    "    def method2(self):\n",
    "        print(\"This is the man behind uvais siddiqui\")\n",
    "\n",
    "class Child(Parent1, Parent2):\n",
    "    pass\n",
    "\n",
    "child_obj = Child()\n",
    "\n",
    "child_obj.method1()  \n",
    "child_obj.method2()  \n"
   ]
  },
  {
   "cell_type": "code",
   "execution_count": 1,
   "id": "32acf32f-c012-4f76-81c5-527b2f1e95b9",
   "metadata": {},
   "outputs": [],
   "source": [
    "# Q4. What are getter and setter in python? Create a class and create a getter and a setter method in this\n",
    "# class."
   ]
  },
  {
   "cell_type": "markdown",
   "id": "533d93c1-3566-48bc-9049-2e106f94eb97",
   "metadata": {},
   "source": [
    "ANS = In Python, getter and setter methods are used to control the access and modification of class attributes. They allow you to define how attributes should be retrieved (getters) and how they should be modified (setters).\n",
    "\n",
    "A getter method retrieves the value of an attribute, while a setter method sets the value of an attribute after performing certain checks or operations. This is particularly useful for maintaining data encapsulation and ensuring that attributes are accessed and modified in a controlled manner."
   ]
  },
  {
   "cell_type": "code",
   "execution_count": 2,
   "id": "81be2432-af1f-4430-94a0-8e131d90fce3",
   "metadata": {},
   "outputs": [],
   "source": [
    "class car :\n",
    "    def __init__(self , year , make , model, speed ) : \n",
    "        \n",
    "        self.__year = year \n",
    "        self.__make = make\n",
    "        self.__model = model\n",
    "        self.__speed = 0\n",
    "        \n",
    "    def set_speed(self,speed) : \n",
    "        self.__speed = 0 if speed < 0 else speed\n",
    "        \n",
    "    def get_speed(self)  : \n",
    "        return self.__speed"
   ]
  },
  {
   "cell_type": "code",
   "execution_count": 3,
   "id": "73f171e3-5ec6-4c9d-8b32-ffdd1dacd9c5",
   "metadata": {},
   "outputs": [],
   "source": [
    "c = car(2021 , \"toyata\" , \"innova\" , 12)\n",
    "  \n",
    "c.set_speed(-3245)"
   ]
  },
  {
   "cell_type": "code",
   "execution_count": 4,
   "id": "a99e7f9d-5e40-4c2f-81a7-4479e075e853",
   "metadata": {},
   "outputs": [
    {
     "data": {
      "text/plain": [
       "0"
      ]
     },
     "execution_count": 4,
     "metadata": {},
     "output_type": "execute_result"
    }
   ],
   "source": [
    "c.get_speed()"
   ]
  },
  {
   "cell_type": "code",
   "execution_count": 5,
   "id": "a088c355-de44-46f3-9fc5-857e1474afee",
   "metadata": {},
   "outputs": [],
   "source": [
    "c.set_speed(234)"
   ]
  },
  {
   "cell_type": "code",
   "execution_count": 6,
   "id": "54384528-a5bb-4561-9b9a-0cfc7cd8e2b9",
   "metadata": {},
   "outputs": [
    {
     "data": {
      "text/plain": [
       "234"
      ]
     },
     "execution_count": 6,
     "metadata": {},
     "output_type": "execute_result"
    }
   ],
   "source": [
    "c.get_speed()"
   ]
  },
  {
   "cell_type": "code",
   "execution_count": 1,
   "id": "5a91ad2a-8e4d-42d6-91e6-7118ec2486c7",
   "metadata": {},
   "outputs": [],
   "source": [
    "# Q5.What is method overriding in python? Write a python code to demonstrate method overriding."
   ]
  },
  {
   "cell_type": "markdown",
   "id": "33045cce-5244-41f6-9216-d1076a863e09",
   "metadata": {},
   "source": [
    "ANS = Method overriding is a concept in object-oriented programming where a subclass provides a specific implementation for a method that is already defined in its superclass. When a method is overridden, the version of the method defined in the subclass takes precedence over the one in the superclass.\n",
    "\n",
    "In Python, method overriding is achieved by defining a method in the subclass with the same name as the one in the superclass. This allows the subclass to provide its own implementation for that method, tailoring it to its specific needs while still maintaining the same method signature."
   ]
  },
  {
   "cell_type": "code",
   "execution_count": 2,
   "id": "c6b05e4e-318d-48e2-95c1-bb5f5e39f095",
   "metadata": {},
   "outputs": [
    {
     "name": "stdout",
     "output_type": "stream",
     "text": [
      "Cat Sound: Meow\n",
      "Dog Sound: Woof\n"
     ]
    }
   ],
   "source": [
    "class Animal:\n",
    "    def make_sound(self):\n",
    "        return \"Generic animal sound\"\n",
    "\n",
    "\n",
    "class Cat(Animal):\n",
    "    def make_sound(self):\n",
    "        return \"Meow\"\n",
    "\n",
    "\n",
    "class Dog(Animal):\n",
    "    def make_sound(self):\n",
    "        return \"Woof\"\n",
    "\n",
    "\n",
    "\n",
    "cat = Cat()\n",
    "dog = Dog()\n",
    "\n",
    "\n",
    "print(\"Cat Sound:\", cat.make_sound()) \n",
    "print(\"Dog Sound:\", dog.make_sound())  \n"
   ]
  },
  {
   "cell_type": "code",
   "execution_count": null,
   "id": "7d3f6efc-d352-42bf-a6be-a73058da0523",
   "metadata": {},
   "outputs": [],
   "source": []
  }
 ],
 "metadata": {
  "kernelspec": {
   "display_name": "Python 3 (ipykernel)",
   "language": "python",
   "name": "python3"
  },
  "language_info": {
   "codemirror_mode": {
    "name": "ipython",
    "version": 3
   },
   "file_extension": ".py",
   "mimetype": "text/x-python",
   "name": "python",
   "nbconvert_exporter": "python",
   "pygments_lexer": "ipython3",
   "version": "3.10.8"
  }
 },
 "nbformat": 4,
 "nbformat_minor": 5
}
